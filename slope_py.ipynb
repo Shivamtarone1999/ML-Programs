{
  "nbformat": 4,
  "nbformat_minor": 0,
  "metadata": {
    "colab": {
      "name": "slope_py.ipynb",
      "version": "0.3.2",
      "provenance": [],
      "include_colab_link": true
    },
    "kernelspec": {
      "name": "python3",
      "display_name": "Python 3"
    }
  },
  "cells": [
    {
      "cell_type": "markdown",
      "metadata": {
        "id": "view-in-github",
        "colab_type": "text"
      },
      "source": [
        "<a href=\"https://colab.research.google.com/github/Shivamtarone1999/ML-Programs/blob/master/slope_py.ipynb\" target=\"_parent\"><img src=\"https://colab.research.google.com/assets/colab-badge.svg\" alt=\"Open In Colab\"/></a>"
      ]
    },
    {
      "cell_type": "code",
      "metadata": {
        "id": "MADhjADzs65t",
        "colab_type": "code",
        "colab": {
          "base_uri": "https://localhost:8080/",
          "height": 34
        },
        "outputId": "eeb005e1-96d3-4022-f076-94caf35bd73d"
      },
      "source": [
        "import numpy as np\n",
        "\n",
        "physics = [15,12,8,8,7,7,7,6,5,3]\n",
        "\n",
        "history = [10,25,17,11,13,17,20,13,9,15]\n",
        "\n",
        "std1 = np.std(physics)\n",
        "\n",
        "std2 = np.std(history)\n",
        "\n",
        "covar = np.cov(physics,history,bias=True)[0][1]\n",
        "\n",
        "r = covar/(std1*std2)\n",
        "\n",
        "slope = (r*std2)/std1\n",
        "print('%.3f' % slope)"
      ],
      "execution_count": 1,
      "outputs": [
        {
          "output_type": "stream",
          "text": [
            "0.208\n"
          ],
          "name": "stdout"
        }
      ]
    },
    {
      "cell_type": "code",
      "metadata": {
        "id": "2_yCzd5ptD3L",
        "colab_type": "code",
        "colab": {}
      },
      "source": [
        ""
      ],
      "execution_count": 0,
      "outputs": []
    }
  ]
}